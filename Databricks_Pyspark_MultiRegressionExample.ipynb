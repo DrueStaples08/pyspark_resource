{
 "cells": [
  {
   "cell_type": "markdown",
   "metadata": {
    "application/vnd.databricks.v1+cell": {
     "cellMetadata": {
      "byteLimit": 2048000,
      "rowLimit": 10000
     },
     "inputWidgets": {},
     "nuid": "96816ed7-b08a-4ca3-abb9-f99880c3535d",
     "showTitle": true,
     "title": ""
    },
    "jupyter": {
     "outputs_hidden": true
    }
   },
   "source": [
    "\n",
    "## Overview\n",
    "\n",
    "This notebook will show you how to create and query a table or DataFrame that you uploaded to DBFS. [DBFS](https://docs.databricks.com/user-guide/dbfs-databricks-file-system.html) is a Databricks File System that allows you to store data for querying inside of Databricks. This notebook assumes that you have a file already inside of DBFS that you would like to read from.\n",
    "\n",
    "This notebook is written in **Python** so the default cell type is Python. However, you can use different languages by using the `%LANGUAGE` syntax. Python, Scala, SQL, and R are all supported."
   ]
  },
  {
   "cell_type": "markdown",
   "metadata": {
    "application/vnd.databricks.v1+cell": {
     "cellMetadata": {},
     "inputWidgets": {},
     "nuid": "bcbf65e9-7fcc-4a91-b44b-19cf2b11fee8",
     "showTitle": false,
     "title": ""
    }
   },
   "source": [
    "Databricks Steps:\n",
    "\n",
    "1. Create a Cluster\n",
    "2. Upload Dataset and create a notebook from that\n"
   ]
  },
  {
   "cell_type": "code",
   "execution_count": 0,
   "metadata": {
    "application/vnd.databricks.v1+cell": {
     "cellMetadata": {
      "byteLimit": 2048000,
      "rowLimit": 10000
     },
     "inputWidgets": {},
     "nuid": "3a697e66-ceb8-4bdf-a618-b605cfbc0df9",
     "showTitle": false,
     "title": ""
    }
   },
   "outputs": [],
   "source": [
    "from transformers import pipeline, AutoTokenizer, AutoModelForSequenceClassification"
   ]
  },
  {
   "cell_type": "code",
   "execution_count": 0,
   "metadata": {
    "application/vnd.databricks.v1+cell": {
     "cellMetadata": {
      "byteLimit": 2048000,
      "rowLimit": 10000
     },
     "inputWidgets": {},
     "nuid": "6482be4c-f067-47c9-b0ac-35c938b94601",
     "showTitle": false,
     "title": ""
    }
   },
   "outputs": [
    {
     "output_type": "stream",
     "name": "stdout",
     "output_type": "stream",
     "text": [
      "+----------+----+------+------+---+------+----+\n|total_bill| tip|   sex|smoker|day|  time|size|\n+----------+----+------+------+---+------+----+\n|     16.99|1.01|Female|    No|Sun|Dinner|   2|\n|     10.34|1.66|  Male|    No|Sun|Dinner|   3|\n|     21.01| 3.5|  Male|    No|Sun|Dinner|   3|\n|     23.68|3.31|  Male|    No|Sun|Dinner|   2|\n|     24.59|3.61|Female|    No|Sun|Dinner|   4|\n|     25.29|4.71|  Male|    No|Sun|Dinner|   4|\n|      8.77| 2.0|  Male|    No|Sun|Dinner|   2|\n|     26.88|3.12|  Male|    No|Sun|Dinner|   4|\n|     15.04|1.96|  Male|    No|Sun|Dinner|   2|\n|     14.78|3.23|  Male|    No|Sun|Dinner|   2|\n|     10.27|1.71|  Male|    No|Sun|Dinner|   2|\n|     35.26| 5.0|Female|    No|Sun|Dinner|   4|\n|     15.42|1.57|  Male|    No|Sun|Dinner|   2|\n|     18.43| 3.0|  Male|    No|Sun|Dinner|   4|\n|     14.83|3.02|Female|    No|Sun|Dinner|   2|\n|     21.58|3.92|  Male|    No|Sun|Dinner|   2|\n|     10.33|1.67|Female|    No|Sun|Dinner|   3|\n|     16.29|3.71|  Male|    No|Sun|Dinner|   3|\n|     16.97| 3.5|Female|    No|Sun|Dinner|   3|\n|     20.65|3.35|  Male|    No|Sat|Dinner|   3|\n+----------+----+------+------+---+------+----+\nonly showing top 20 rows\n\n"
     ]
    }
   ],
   "source": [
    "# File location and type\n",
    "file_location = \"/FileStore/tables/tips.csv\"\n",
    "file_type = \"csv\"\n",
    "\n",
    "# # CSV options\n",
    "# infer_schema = \"false\"\n",
    "# first_row_is_header = \"false\"\n",
    "# delimiter = \",\"\n",
    "\n",
    "# # The applied options are for CSV files. For other file types, these will be ignored.\n",
    "# df = spark.read.format(file_type) \\\n",
    "#   .option(\"inferSchema\", infer_schema) \\\n",
    "#   .option(\"header\", first_row_is_header) \\\n",
    "#   .option(\"sep\", delimiter) \\\n",
    "#   .load(file_location)\n",
    "\n",
    "# display(df)\n",
    "df_pyspark = spark.read.csv(file_location, header=True, inferSchema=True)\n",
    "df_pyspark.show()"
   ]
  },
  {
   "cell_type": "code",
   "execution_count": 0,
   "metadata": {
    "application/vnd.databricks.v1+cell": {
     "cellMetadata": {
      "byteLimit": 2048000,
      "rowLimit": 10000
     },
     "inputWidgets": {},
     "nuid": "f6620bed-31f5-44be-8b7e-da892b9f6ba0",
     "showTitle": false,
     "title": ""
    }
   },
   "outputs": [
    {
     "output_type": "stream",
     "name": "stdout",
     "output_type": "stream",
     "text": [
      "Out[3]: ['total_bill', 'tip', 'sex', 'smoker', 'day', 'time', 'size']"
     ]
    }
   ],
   "source": [
    "df_pyspark.columns"
   ]
  },
  {
   "cell_type": "code",
   "execution_count": 0,
   "metadata": {
    "application/vnd.databricks.v1+cell": {
     "cellMetadata": {
      "byteLimit": 2048000,
      "rowLimit": 10000
     },
     "inputWidgets": {},
     "nuid": "6b46505e-d4bb-4044-86f4-80a379c2b9dd",
     "showTitle": false,
     "title": ""
    }
   },
   "outputs": [
    {
     "output_type": "stream",
     "name": "stdout",
     "output_type": "stream",
     "text": [
      "Out[4]: 244"
     ]
    }
   ],
   "source": [
    "# Number of rows\n",
    "df_pyspark.count()"
   ]
  },
  {
   "cell_type": "code",
   "execution_count": 0,
   "metadata": {
    "application/vnd.databricks.v1+cell": {
     "cellMetadata": {
      "byteLimit": 2048000,
      "rowLimit": 10000
     },
     "inputWidgets": {},
     "nuid": "4629e8c5-859b-4a1d-9e4d-b4fd17fc37f6",
     "showTitle": false,
     "title": ""
    }
   },
   "outputs": [
    {
     "output_type": "stream",
     "name": "stdout",
     "output_type": "stream",
     "text": [
      "+------+------------------+\n|   sex|          avg(tip)|\n+------+------------------+\n|Female| 2.833448275862069|\n|  Male|3.0896178343949052|\n+------+------------------+\n\n"
     ]
    }
   ],
   "source": [
    "# Do Males or Females tip more?\n",
    "df_pyspark.groupBy(\"sex\").agg({\"tip\": \"mean\"}).show()"
   ]
  },
  {
   "cell_type": "code",
   "execution_count": 0,
   "metadata": {
    "application/vnd.databricks.v1+cell": {
     "cellMetadata": {
      "byteLimit": 2048000,
      "rowLimit": 10000
     },
     "inputWidgets": {},
     "nuid": "efd53929-b354-4f1e-b6ea-a482d07855ae",
     "showTitle": false,
     "title": ""
    }
   },
   "outputs": [],
   "source": [
    "from pyspark.sql.functions import desc"
   ]
  },
  {
   "cell_type": "code",
   "execution_count": 0,
   "metadata": {
    "application/vnd.databricks.v1+cell": {
     "cellMetadata": {
      "byteLimit": 2048000,
      "rowLimit": 10000
     },
     "inputWidgets": {},
     "nuid": "288bfd45-cc8a-42f1-850c-ea9ec323425b",
     "showTitle": false,
     "title": ""
    }
   },
   "outputs": [
    {
     "output_type": "stream",
     "name": "stdout",
     "output_type": "stream",
     "text": [
      "+----+------------------+-----------------+------------------+\n| day|   avg(total_bill)|         avg(tip)|         avg(size)|\n+----+------------------+-----------------+------------------+\n| Sun|21.410000000000004|3.255131578947369|2.8421052631578947|\n| Sat|20.441379310344825|2.993103448275862|2.5172413793103448|\n|Thur|17.682741935483865|2.771451612903226|2.4516129032258065|\n| Fri|17.151578947368417|2.734736842105263|2.1052631578947367|\n+----+------------------+-----------------+------------------+\n\n"
     ]
    }
   ],
   "source": [
    "# What day receieves the highest bill, tip amount, and customer sizel on average?\n",
    "df_pyspark.groupBy(\"day\").avg().sort(desc(\"avg(total_bill)\")).show()"
   ]
  },
  {
   "cell_type": "code",
   "execution_count": 0,
   "metadata": {
    "application/vnd.databricks.v1+cell": {
     "cellMetadata": {
      "byteLimit": 2048000,
      "rowLimit": 10000
     },
     "inputWidgets": {},
     "nuid": "43df7def-eedd-4d57-83ca-b414b29dfa76",
     "showTitle": false,
     "title": ""
    }
   },
   "outputs": [
    {
     "output_type": "stream",
     "name": "stdout",
     "output_type": "stream",
     "text": [
      "+----------+------+\n|total_bill|smoker|\n+----------+------+\n|     50.81|   Yes|\n|     48.33|    No|\n|     48.27|    No|\n|     48.17|    No|\n|     45.35|   Yes|\n|      44.3|   Yes|\n|     43.11|   Yes|\n|     41.19|    No|\n|     40.55|   Yes|\n|     40.17|   Yes|\n|     39.42|    No|\n|     38.73|   Yes|\n|     38.07|    No|\n|     38.01|   Yes|\n|     35.83|    No|\n|     35.26|    No|\n|     34.83|    No|\n|     34.81|    No|\n|     34.65|   Yes|\n|     34.63|   Yes|\n+----------+------+\nonly showing top 20 rows\n\n"
     ]
    }
   ],
   "source": [
    "df_pyspark.select([\"total_bill\", \"smoker\"]).orderBy(desc(\"total_bill\")).show()"
   ]
  },
  {
   "cell_type": "code",
   "execution_count": 0,
   "metadata": {
    "application/vnd.databricks.v1+cell": {
     "cellMetadata": {
      "byteLimit": 2048000,
      "rowLimit": 10000
     },
     "inputWidgets": {},
     "nuid": "71d14edf-d7fe-4a85-9051-1be1db8582f9",
     "showTitle": false,
     "title": ""
    }
   },
   "outputs": [],
   "source": [
    "from pyspark.sql.functions import isnan, isnull, col"
   ]
  },
  {
   "cell_type": "code",
   "execution_count": 0,
   "metadata": {
    "application/vnd.databricks.v1+cell": {
     "cellMetadata": {
      "byteLimit": 2048000,
      "rowLimit": 10000
     },
     "inputWidgets": {},
     "nuid": "7549a9d4-2a29-4780-aed5-b15c7135e16b",
     "showTitle": false,
     "title": ""
    }
   },
   "outputs": [
    {
     "output_type": "stream",
     "name": "stdout",
     "output_type": "stream",
     "text": [
      "+----------+\n|isnan(day)|\n+----------+\n|     false|\n|     false|\n|     false|\n|     false|\n|     false|\n|     false|\n|     false|\n|     false|\n|     false|\n|     false|\n|     false|\n|     false|\n|     false|\n|     false|\n|     false|\n|     false|\n|     false|\n|     false|\n|     false|\n|     false|\n+----------+\nonly showing top 20 rows\n\n"
     ]
    }
   ],
   "source": [
    "# Find null values in a specific column\n",
    "df_pyspark.select(isnan('day')).show()"
   ]
  },
  {
   "cell_type": "code",
   "execution_count": 0,
   "metadata": {
    "application/vnd.databricks.v1+cell": {
     "cellMetadata": {
      "byteLimit": 2048000,
      "rowLimit": 10000
     },
     "inputWidgets": {},
     "nuid": "467c4dd4-5945-42d3-97b0-5a46bd6ed6a2",
     "showTitle": false,
     "title": ""
    }
   },
   "outputs": [
    {
     "output_type": "stream",
     "name": "stdout",
     "output_type": "stream",
     "text": [
      "Out[45]: Row((isnan(total_bill) OR (total_bill IS NULL))=False, (isnan(tip) OR (tip IS NULL))=False, (isnan(sex) OR (sex IS NULL))=False, (isnan(smoker) OR (smoker IS NULL))=False, (isnan(day) OR (day IS NULL))=False, (isnan(time) OR (time IS NULL))=False, (isnan(size) OR (size IS NULL))=False)"
     ]
    }
   ],
   "source": [
    "# Find nan values for a whole dataframe\n",
    "df_pyspark.select([isnan(i) | col(i).isNull() for i in df_pyspark.columns]).collect()[0]"
   ]
  },
  {
   "cell_type": "code",
   "execution_count": 0,
   "metadata": {
    "application/vnd.databricks.v1+cell": {
     "cellMetadata": {
      "byteLimit": 2048000,
      "rowLimit": 10000
     },
     "inputWidgets": {},
     "nuid": "78f7969e-495b-4057-b2fe-8fec57caecbc",
     "showTitle": false,
     "title": ""
    }
   },
   "outputs": [
    {
     "output_type": "stream",
     "name": "stdout",
     "output_type": "stream",
     "text": [
      "root\n |-- total_bill: double (nullable = true)\n |-- tip: double (nullable = true)\n |-- sex: string (nullable = true)\n |-- smoker: string (nullable = true)\n |-- day: string (nullable = true)\n |-- time: string (nullable = true)\n |-- size: integer (nullable = true)\n\n"
     ]
    }
   ],
   "source": [
    "df_pyspark.printSchema()"
   ]
  },
  {
   "cell_type": "code",
   "execution_count": 0,
   "metadata": {
    "application/vnd.databricks.v1+cell": {
     "cellMetadata": {},
     "inputWidgets": {},
     "nuid": "dd3ce2d3-136b-4ccd-b35c-e90eac4bb0e9",
     "showTitle": false,
     "title": ""
    }
   },
   "outputs": [],
   "source": [
    "# Given the tip, sex, smoker, day, time, and size (independent features) as inputs, create a ML model that learns to predict the total bill (dependent feature)"
   ]
  },
  {
   "cell_type": "code",
   "execution_count": 0,
   "metadata": {
    "application/vnd.databricks.v1+cell": {
     "cellMetadata": {
      "byteLimit": 2048000,
      "rowLimit": 10000
     },
     "inputWidgets": {},
     "nuid": "1d07f285-8d11-48e5-a7df-59b67346a13a",
     "showTitle": false,
     "title": ""
    }
   },
   "outputs": [],
   "source": [
    "# Convert categorical features into numerical values \n",
    "from pyspark.ml.feature import StringIndexer"
   ]
  },
  {
   "cell_type": "code",
   "execution_count": 0,
   "metadata": {
    "application/vnd.databricks.v1+cell": {
     "cellMetadata": {
      "byteLimit": 2048000,
      "rowLimit": 10000
     },
     "inputWidgets": {},
     "nuid": "52ddf296-7963-433c-9429-478c22a34d5c",
     "showTitle": false,
     "title": ""
    }
   },
   "outputs": [
    {
     "output_type": "stream",
     "name": "stdout",
     "output_type": "stream",
     "text": [
      "Out[85]: StringIndexer_8daf21bc2d3c"
     ]
    }
   ],
   "source": [
    "string_type_features = [\"sex\", \"smoker\", \"day\", \"time\"]\n",
    "str_indexer = StringIndexer(\n",
    "    inputCols=string_type_features,\n",
    "    outputCols=[f\"{col_name}_index\" for col_name in string_type_features]\n",
    "              )\n",
    "str_indexer"
   ]
  },
  {
   "cell_type": "code",
   "execution_count": 0,
   "metadata": {
    "application/vnd.databricks.v1+cell": {
     "cellMetadata": {
      "byteLimit": 2048000,
      "rowLimit": 10000
     },
     "inputWidgets": {},
     "nuid": "f2ae46cd-647f-4094-86f4-acd833100f1a",
     "showTitle": false,
     "title": ""
    }
   },
   "outputs": [
    {
     "output_type": "stream",
     "name": "stdout",
     "output_type": "stream",
     "text": [
      "+----------+----+------+------+---+------+----+---------+------------+---------+----------+\n|total_bill| tip|   sex|smoker|day|  time|size|sex_index|smoker_index|day_index|time_index|\n+----------+----+------+------+---+------+----+---------+------------+---------+----------+\n|     16.99|1.01|Female|    No|Sun|Dinner|   2|      1.0|         0.0|      1.0|       0.0|\n|     10.34|1.66|  Male|    No|Sun|Dinner|   3|      0.0|         0.0|      1.0|       0.0|\n|     21.01| 3.5|  Male|    No|Sun|Dinner|   3|      0.0|         0.0|      1.0|       0.0|\n|     23.68|3.31|  Male|    No|Sun|Dinner|   2|      0.0|         0.0|      1.0|       0.0|\n|     24.59|3.61|Female|    No|Sun|Dinner|   4|      1.0|         0.0|      1.0|       0.0|\n|     25.29|4.71|  Male|    No|Sun|Dinner|   4|      0.0|         0.0|      1.0|       0.0|\n|      8.77| 2.0|  Male|    No|Sun|Dinner|   2|      0.0|         0.0|      1.0|       0.0|\n|     26.88|3.12|  Male|    No|Sun|Dinner|   4|      0.0|         0.0|      1.0|       0.0|\n|     15.04|1.96|  Male|    No|Sun|Dinner|   2|      0.0|         0.0|      1.0|       0.0|\n|     14.78|3.23|  Male|    No|Sun|Dinner|   2|      0.0|         0.0|      1.0|       0.0|\n|     10.27|1.71|  Male|    No|Sun|Dinner|   2|      0.0|         0.0|      1.0|       0.0|\n|     35.26| 5.0|Female|    No|Sun|Dinner|   4|      1.0|         0.0|      1.0|       0.0|\n|     15.42|1.57|  Male|    No|Sun|Dinner|   2|      0.0|         0.0|      1.0|       0.0|\n|     18.43| 3.0|  Male|    No|Sun|Dinner|   4|      0.0|         0.0|      1.0|       0.0|\n|     14.83|3.02|Female|    No|Sun|Dinner|   2|      1.0|         0.0|      1.0|       0.0|\n|     21.58|3.92|  Male|    No|Sun|Dinner|   2|      0.0|         0.0|      1.0|       0.0|\n|     10.33|1.67|Female|    No|Sun|Dinner|   3|      1.0|         0.0|      1.0|       0.0|\n|     16.29|3.71|  Male|    No|Sun|Dinner|   3|      0.0|         0.0|      1.0|       0.0|\n|     16.97| 3.5|Female|    No|Sun|Dinner|   3|      1.0|         0.0|      1.0|       0.0|\n|     20.65|3.35|  Male|    No|Sat|Dinner|   3|      0.0|         0.0|      0.0|       0.0|\n+----------+----+------+------+---+------+----+---------+------------+---------+----------+\nonly showing top 20 rows\n\n"
     ]
    }
   ],
   "source": [
    "df_pyspark_indexed = str_indexer.fit(df_pyspark).transform(df_pyspark)\n",
    "df_pyspark_indexed.show()"
   ]
  },
  {
   "cell_type": "code",
   "execution_count": 0,
   "metadata": {
    "application/vnd.databricks.v1+cell": {
     "cellMetadata": {
      "byteLimit": 2048000,
      "rowLimit": 10000
     },
     "inputWidgets": {},
     "nuid": "066bada1-a834-4a55-878f-5c951a7e4cf8",
     "showTitle": false,
     "title": ""
    }
   },
   "outputs": [
    {
     "output_type": "stream",
     "name": "stdout",
     "output_type": "stream",
     "text": [
      "Out[87]: ['total_bill',\n 'tip',\n 'sex',\n 'smoker',\n 'day',\n 'time',\n 'size',\n 'sex_index',\n 'smoker_index',\n 'day_index',\n 'time_index']"
     ]
    }
   ],
   "source": [
    "df_pyspark_indexed.columns"
   ]
  },
  {
   "cell_type": "code",
   "execution_count": 0,
   "metadata": {
    "application/vnd.databricks.v1+cell": {
     "cellMetadata": {
      "byteLimit": 2048000,
      "rowLimit": 10000
     },
     "inputWidgets": {},
     "nuid": "8b93d50e-7cc2-4cc7-b52f-fff1ed0c4511",
     "showTitle": false,
     "title": ""
    }
   },
   "outputs": [],
   "source": [
    "# Group the features together to supply them and the dependent feature to a VectorAssembler\n",
    "\n",
    "from pyspark.ml.feature import VectorAssembler"
   ]
  },
  {
   "cell_type": "code",
   "execution_count": 0,
   "metadata": {
    "application/vnd.databricks.v1+cell": {
     "cellMetadata": {
      "byteLimit": 2048000,
      "rowLimit": 10000
     },
     "inputWidgets": {},
     "nuid": "761c9897-3a7a-4787-956c-31efd218305b",
     "showTitle": false,
     "title": ""
    }
   },
   "outputs": [
    {
     "output_type": "stream",
     "name": "stdout",
     "output_type": "stream",
     "text": [
      "Out[89]: VectorAssembler_a4b28d191089"
     ]
    }
   ],
   "source": [
    "vector_assembler = VectorAssembler(\n",
    "    inputCols = [\"tip\", \"sex_index\", \"smoker_index\", \"day_index\", \"time_index\", \"size\"],\n",
    "    outputCol = \"IndependentFeatures\"\n",
    ")\n",
    "vector_assembler"
   ]
  },
  {
   "cell_type": "code",
   "execution_count": 0,
   "metadata": {
    "application/vnd.databricks.v1+cell": {
     "cellMetadata": {
      "byteLimit": 2048000,
      "rowLimit": 10000
     },
     "inputWidgets": {},
     "nuid": "8eb58933-26aa-4f07-bd74-208e62bad983",
     "showTitle": false,
     "title": ""
    }
   },
   "outputs": [
    {
     "output_type": "stream",
     "name": "stdout",
     "output_type": "stream",
     "text": [
      "+--------------------+----------+\n| IndependentFeatures|total_bill|\n+--------------------+----------+\n|[1.01,1.0,0.0,1.0...|     16.99|\n|[1.66,0.0,0.0,1.0...|     10.34|\n|[3.5,0.0,0.0,1.0,...|     21.01|\n|[3.31,0.0,0.0,1.0...|     23.68|\n|[3.61,1.0,0.0,1.0...|     24.59|\n|[4.71,0.0,0.0,1.0...|     25.29|\n|[2.0,0.0,0.0,1.0,...|      8.77|\n|[3.12,0.0,0.0,1.0...|     26.88|\n|[1.96,0.0,0.0,1.0...|     15.04|\n|[3.23,0.0,0.0,1.0...|     14.78|\n|[1.71,0.0,0.0,1.0...|     10.27|\n|[5.0,1.0,0.0,1.0,...|     35.26|\n|[1.57,0.0,0.0,1.0...|     15.42|\n|[3.0,0.0,0.0,1.0,...|     18.43|\n|[3.02,1.0,0.0,1.0...|     14.83|\n|[3.92,0.0,0.0,1.0...|     21.58|\n|[1.67,1.0,0.0,1.0...|     10.33|\n|[3.71,0.0,0.0,1.0...|     16.29|\n|[3.5,1.0,0.0,1.0,...|     16.97|\n|(6,[0,5],[3.35,3.0])|     20.65|\n+--------------------+----------+\nonly showing top 20 rows\n\n"
     ]
    }
   ],
   "source": [
    "pyspark_features = vector_assembler.transform(df_pyspark_indexed).select([\"IndependentFeatures\", \"total_bill\"])\n",
    "pyspark_features.show()"
   ]
  },
  {
   "cell_type": "code",
   "execution_count": 0,
   "metadata": {
    "application/vnd.databricks.v1+cell": {
     "cellMetadata": {
      "byteLimit": 2048000,
      "rowLimit": 10000
     },
     "inputWidgets": {},
     "nuid": "19f28a24-191b-4a10-a8d0-0ccd617604a8",
     "showTitle": false,
     "title": ""
    }
   },
   "outputs": [
    {
     "output_type": "stream",
     "name": "stdout",
     "output_type": "stream",
     "text": [
      "+--------------------+----------+\n| IndependentFeatures|total_bill|\n+--------------------+----------+\n|(6,[0,5],[1.25,2.0])|     10.07|\n|(6,[0,5],[1.25,2.0])|     10.51|\n|(6,[0,5],[1.47,2.0])|     10.77|\n|(6,[0,5],[1.75,2.0])|     17.82|\n|(6,[0,5],[1.97,2.0])|     12.02|\n| (6,[0,5],[2.0,2.0])|     12.69|\n| (6,[0,5],[2.0,2.0])|     13.37|\n| (6,[0,5],[2.0,3.0])|     16.31|\n|(6,[0,5],[2.01,2.0])|     20.23|\n|(6,[0,5],[2.24,3.0])|     16.04|\n|(6,[0,5],[2.31,3.0])|     18.69|\n|(6,[0,5],[2.34,4.0])|     17.81|\n| (6,[0,5],[2.5,4.0])|     18.35|\n|(6,[0,5],[2.64,3.0])|     17.59|\n| (6,[0,5],[3.0,4.0])|     20.45|\n|(6,[0,5],[3.18,2.0])|     19.82|\n|(6,[0,5],[3.27,2.0])|     17.78|\n|(6,[0,5],[3.35,3.0])|     20.65|\n|(6,[0,5],[3.39,2.0])|     11.61|\n| (6,[0,5],[3.6,3.0])|     24.06|\n+--------------------+----------+\nonly showing top 20 rows\n\n+--------------------+----------+\n| IndependentFeatures|total_bill|\n+--------------------+----------+\n|(6,[0,5],[1.45,2.0])|      9.55|\n|(6,[0,5],[2.72,2.0])|     13.28|\n| (6,[0,5],[3.0,2.0])|      14.0|\n|(6,[0,5],[3.15,3.0])|     20.08|\n|(6,[0,5],[3.76,2.0])|     18.24|\n|(6,[0,5],[6.73,4.0])|     48.27|\n|[1.17,0.0,1.0,0.0...|     32.83|\n|[1.25,1.0,0.0,2.0...|      8.51|\n|[1.5,0.0,1.0,1.0,...|     15.69|\n|[1.5,1.0,0.0,0.0,...|     26.41|\n|[1.5,1.0,0.0,2.0,...|     10.65|\n|[1.5,1.0,0.0,2.0,...|     11.17|\n|[1.56,0.0,0.0,1.0...|      9.94|\n|[1.64,0.0,1.0,0.0...|     15.36|\n|[1.67,1.0,0.0,1.0...|     10.33|\n|[1.73,0.0,0.0,2.0...|      9.78|\n|[2.0,0.0,1.0,1.0,...|     30.46|\n|[2.0,0.0,1.0,2.0,...|      16.0|\n|[2.0,1.0,0.0,2.0,...|     11.38|\n|[2.0,1.0,0.0,2.0,...|     12.26|\n+--------------------+----------+\nonly showing top 20 rows\n\nOut[98]: (None, None)"
     ]
    }
   ],
   "source": [
    "# Split Data\n",
    "\n",
    "train_data, test_data = pyspark_features.randomSplit(weights=[.7,.3])\n",
    "train_data.show(), test_data.show()"
   ]
  },
  {
   "cell_type": "code",
   "execution_count": 0,
   "metadata": {
    "application/vnd.databricks.v1+cell": {
     "cellMetadata": {
      "byteLimit": 2048000,
      "rowLimit": 10000
     },
     "inputWidgets": {},
     "nuid": "b5c5a562-20f9-434e-9217-5a06b7af51bb",
     "showTitle": false,
     "title": ""
    }
   },
   "outputs": [
    {
     "output_type": "stream",
     "name": "stdout",
     "output_type": "stream",
     "text": [
      "Out[99]: (179, 65)"
     ]
    }
   ],
   "source": [
    "train_data.count(), test_data.count()"
   ]
  },
  {
   "cell_type": "code",
   "execution_count": 0,
   "metadata": {
    "application/vnd.databricks.v1+cell": {
     "cellMetadata": {
      "byteLimit": 2048000,
      "rowLimit": 10000
     },
     "inputWidgets": {},
     "nuid": "893c2e60-27cd-402d-8c7b-c5bf7fe17f6e",
     "showTitle": false,
     "title": ""
    }
   },
   "outputs": [],
   "source": [
    "from pyspark.ml.regression import LinearRegression, LinearRegressionModel"
   ]
  },
  {
   "cell_type": "code",
   "execution_count": 0,
   "metadata": {
    "application/vnd.databricks.v1+cell": {
     "cellMetadata": {
      "byteLimit": 2048000,
      "rowLimit": 10000
     },
     "inputWidgets": {},
     "nuid": "a91b5e6e-789d-4dd7-8be1-23ac05e39fee",
     "showTitle": false,
     "title": ""
    }
   },
   "outputs": [
    {
     "output_type": "stream",
     "name": "stdout",
     "output_type": "stream",
     "text": [
      "Out[105]: LinearRegression_e87eac14aa65"
     ]
    }
   ],
   "source": [
    "model = LinearRegression(featuresCol=\"IndependentFeatures\", labelCol=\"total_bill\")\n",
    "model"
   ]
  },
  {
   "cell_type": "code",
   "execution_count": 0,
   "metadata": {
    "application/vnd.databricks.v1+cell": {
     "cellMetadata": {
      "byteLimit": 2048000,
      "rowLimit": 10000
     },
     "inputWidgets": {},
     "nuid": "1ae816d5-6b2b-4ad4-926e-9c0d7d0ba6ff",
     "showTitle": false,
     "title": ""
    }
   },
   "outputs": [],
   "source": [
    "results = model.fit(train_data)"
   ]
  },
  {
   "cell_type": "code",
   "execution_count": 0,
   "metadata": {
    "application/vnd.databricks.v1+cell": {
     "cellMetadata": {
      "byteLimit": 2048000,
      "rowLimit": 10000
     },
     "inputWidgets": {},
     "nuid": "e83b30e5-efb5-4d5f-a1af-c0ef347871ff",
     "showTitle": false,
     "title": ""
    }
   },
   "outputs": [
    {
     "output_type": "stream",
     "name": "stdout",
     "output_type": "stream",
     "text": [
      "Out[108]: DenseVector([3.6393, -1.2737, 2.1496, 0.2143, -0.794, 3.4614])"
     ]
    }
   ],
   "source": [
    "results.coefficients"
   ]
  },
  {
   "cell_type": "code",
   "execution_count": 0,
   "metadata": {
    "application/vnd.databricks.v1+cell": {
     "cellMetadata": {
      "byteLimit": 2048000,
      "rowLimit": 10000
     },
     "inputWidgets": {},
     "nuid": "32dc994d-daa7-4c94-8f57-054a1806cd80",
     "showTitle": false,
     "title": ""
    }
   },
   "outputs": [
    {
     "output_type": "stream",
     "name": "stdout",
     "output_type": "stream",
     "text": [
      "Out[110]: -0.30353258875047284"
     ]
    }
   ],
   "source": [
    "results.intercept"
   ]
  },
  {
   "cell_type": "code",
   "execution_count": 0,
   "metadata": {
    "application/vnd.databricks.v1+cell": {
     "cellMetadata": {
      "byteLimit": 2048000,
      "rowLimit": 10000
     },
     "inputWidgets": {},
     "nuid": "e40db5d9-a27e-4b0f-8b39-2321fe9e7c00",
     "showTitle": false,
     "title": ""
    }
   },
   "outputs": [
    {
     "output_type": "stream",
     "name": "stdout",
     "output_type": "stream",
     "text": [
      "+--------------------+----------+------------------+\n| IndependentFeatures|total_bill|        prediction|\n+--------------------+----------+------------------+\n|(6,[0,5],[1.45,2.0])|      9.55|11.896272034862674|\n|(6,[0,5],[2.72,2.0])|     13.28|16.518209320862518|\n| (6,[0,5],[3.0,2.0])|      14.0|17.537219116201065|\n|(6,[0,5],[3.15,3.0])|     20.08|21.544512026865977|\n|(6,[0,5],[3.76,2.0])|     18.24|20.303102846405693|\n|(6,[0,5],[6.73,4.0])|     48.27|  38.0346749304281|\n|[1.17,0.0,1.0,0.0...|     32.83|13.026834439442707|\n|[1.25,1.0,0.0,2.0...|      8.51| 9.529334618224246|\n|[1.5,0.0,1.0,1.0,...|     15.69|14.442129996911104|\n|[1.5,1.0,0.0,0.0,...|     26.41|10.804565530500954|\n|[1.5,1.0,0.0,2.0,...|     10.65|10.439164792633663|\n|[1.5,1.0,0.0,2.0,...|     11.17|10.439164792633663|\n|[1.56,0.0,0.0,1.0...|      9.94|12.510917038850785|\n|[1.64,0.0,1.0,0.0...|     15.36|14.737315167332412|\n|[1.67,1.0,0.0,1.0...|     10.33|15.098964582366586|\n|[1.73,0.0,0.0,2.0...|      9.78|12.549881092333933|\n|[2.0,0.0,1.0,1.0,...|     30.46|26.645974763787734|\n|[2.0,0.0,1.0,2.0,...|      16.0|15.682069880614684|\n|[2.0,1.0,0.0,2.0,...|     11.38|  12.2588251414525|\n|[2.0,1.0,0.0,2.0,...|     12.26|  12.2588251414525|\n+--------------------+----------+------------------+\nonly showing top 20 rows\n\n"
     ]
    }
   ],
   "source": [
    "test_results = results.evaluate(test_data)\n",
    "test_results.predictions.show()"
   ]
  },
  {
   "cell_type": "code",
   "execution_count": 0,
   "metadata": {
    "application/vnd.databricks.v1+cell": {
     "cellMetadata": {
      "byteLimit": 2048000,
      "rowLimit": 10000
     },
     "inputWidgets": {},
     "nuid": "cbf6fc17-8193-4a00-bd6a-ccbe6c36ca53",
     "showTitle": false,
     "title": ""
    }
   },
   "outputs": [
    {
     "output_type": "stream",
     "name": "stdout",
     "output_type": "stream",
     "text": [
      "+-------+------------------+------------------+\n|summary|        total_bill|        prediction|\n+-------+------------------+------------------+\n|  count|                65|                65|\n|   mean|21.417230769230766|21.741891818415244|\n| stddev| 8.868048775606646| 8.150977835804948|\n|    min|              7.25| 9.529334618224246|\n|    25%|             14.83|15.279461320491764|\n|    50%|             20.69|21.099713885275687|\n|    75%|             26.41|26.609580928158174|\n|    max|             48.27| 44.48288418367021|\n+-------+------------------+------------------+\n\n"
     ]
    }
   ],
   "source": [
    "test_results.predictions.summary().show()"
   ]
  },
  {
   "cell_type": "code",
   "execution_count": 0,
   "metadata": {
    "application/vnd.databricks.v1+cell": {
     "cellMetadata": {
      "byteLimit": 2048000,
      "rowLimit": 10000
     },
     "inputWidgets": {},
     "nuid": "02aed270-5007-4fba-808b-96451f54116f",
     "showTitle": false,
     "title": ""
    }
   },
   "outputs": [
    {
     "output_type": "stream",
     "name": "stdout",
     "output_type": "stream",
     "text": [
      "Out[128]: (0.4003754068024289, 4.910609995527969, 46.4303759770008, 6.813983855058713)"
     ]
    }
   ],
   "source": [
    "# Regression Performance Metrics\n",
    "test_results.r2, test_results.meanAbsoluteError, test_results.meanSquaredError, test_results.rootMeanSquaredError"
   ]
  },
  {
   "cell_type": "code",
   "execution_count": 0,
   "metadata": {
    "application/vnd.databricks.v1+cell": {
     "cellMetadata": {
      "byteLimit": 2048000,
      "rowLimit": 10000
     },
     "inputWidgets": {},
     "nuid": "ddf6f040-5952-4e1c-b4c8-c6bc13aac0a2",
     "showTitle": false,
     "title": ""
    }
   },
   "outputs": [],
   "source": [
    "# model.save(\"/FileStore/models/model_ex.pkl\")\n",
    "\n",
    "results.save(\"ex_model.pkl\")\n",
    "\n",
    "# results.save(\"ex1_model.model\")"
   ]
  },
  {
   "cell_type": "code",
   "execution_count": 0,
   "metadata": {
    "application/vnd.databricks.v1+cell": {
     "cellMetadata": {
      "byteLimit": 2048000,
      "rowLimit": 10000
     },
     "inputWidgets": {},
     "nuid": "9c7cb097-05ec-4753-aa73-6d3d29a96ea4",
     "showTitle": false,
     "title": ""
    }
   },
   "outputs": [],
   "source": [
    "# Load model back in \n",
    "new_model = LinearRegressionModel.load(\"/ex_model.pkl\")"
   ]
  },
  {
   "cell_type": "code",
   "execution_count": 0,
   "metadata": {
    "application/vnd.databricks.v1+cell": {
     "cellMetadata": {
      "byteLimit": 2048000,
      "rowLimit": 10000
     },
     "inputWidgets": {},
     "nuid": "538a2aa4-8b7e-4877-9a70-13ef3d2cf29e",
     "showTitle": false,
     "title": ""
    }
   },
   "outputs": [
    {
     "output_type": "stream",
     "name": "stdout",
     "output_type": "stream",
     "text": [
      "+--------------------+----------+------------------+\n| IndependentFeatures|total_bill|        prediction|\n+--------------------+----------+------------------+\n|(6,[0,5],[1.45,2.0])|      9.55|11.896272034862674|\n|(6,[0,5],[2.72,2.0])|     13.28|16.518209320862518|\n| (6,[0,5],[3.0,2.0])|      14.0|17.537219116201065|\n|(6,[0,5],[3.15,3.0])|     20.08|21.544512026865977|\n|(6,[0,5],[3.76,2.0])|     18.24|20.303102846405693|\n|(6,[0,5],[6.73,4.0])|     48.27|  38.0346749304281|\n|[1.17,0.0,1.0,0.0...|     32.83|13.026834439442707|\n|[1.25,1.0,0.0,2.0...|      8.51| 9.529334618224246|\n|[1.5,0.0,1.0,1.0,...|     15.69|14.442129996911104|\n|[1.5,1.0,0.0,0.0,...|     26.41|10.804565530500954|\n|[1.5,1.0,0.0,2.0,...|     10.65|10.439164792633663|\n|[1.5,1.0,0.0,2.0,...|     11.17|10.439164792633663|\n|[1.56,0.0,0.0,1.0...|      9.94|12.510917038850785|\n|[1.64,0.0,1.0,0.0...|     15.36|14.737315167332412|\n|[1.67,1.0,0.0,1.0...|     10.33|15.098964582366586|\n|[1.73,0.0,0.0,2.0...|      9.78|12.549881092333933|\n|[2.0,0.0,1.0,1.0,...|     30.46|26.645974763787734|\n|[2.0,0.0,1.0,2.0,...|      16.0|15.682069880614684|\n|[2.0,1.0,0.0,2.0,...|     11.38|  12.2588251414525|\n|[2.0,1.0,0.0,2.0,...|     12.26|  12.2588251414525|\n+--------------------+----------+------------------+\nonly showing top 20 rows\n\n"
     ]
    }
   ],
   "source": [
    "# Perform inference with the new loaded model\n",
    "new_model.evaluate(test_data).predictions.show()"
   ]
  },
  {
   "cell_type": "code",
   "execution_count": 0,
   "metadata": {
    "application/vnd.databricks.v1+cell": {
     "cellMetadata": {},
     "inputWidgets": {},
     "nuid": "8fb651b5-aa53-4a3a-8fd5-91d643dd4513",
     "showTitle": false,
     "title": ""
    }
   },
   "outputs": [],
   "source": []
  },
  {
   "cell_type": "code",
   "execution_count": 0,
   "metadata": {
    "application/vnd.databricks.v1+cell": {
     "cellMetadata": {},
     "inputWidgets": {},
     "nuid": "bd82bb99-1479-4d5c-be10-8c36df0f1d44",
     "showTitle": false,
     "title": ""
    }
   },
   "outputs": [
    {
     "output_type": "display_data",
     "data": {
      "text/html": [
       "<style scoped>\n",
       "  .ansiout {\n",
       "    display: block;\n",
       "    unicode-bidi: embed;\n",
       "    white-space: pre-wrap;\n",
       "    word-wrap: break-word;\n",
       "    word-break: break-all;\n",
       "    font-family: \"Menlo\", \"Monaco\", \"Consolas\", \"Ubuntu Mono\", \"Source Code Pro\", monospace;\n",
       "    font-size: 13px;\n",
       "    color: #555;\n",
       "    margin-left: 4px;\n",
       "    line-height: 19px;\n",
       "  }\n",
       "</style>"
      ]
     },
     "metadata": {
      "application/vnd.databricks.v1+output": {
       "arguments": {},
       "data": "",
       "errorSummary": "",
       "errorTraceType": null,
       "metadata": {},
       "type": "ipynbError"
      }
     },
     "output_type": "display_data"
    }
   ],
   "source": [
    "# # Create a view or table\n",
    "\n",
    "# temp_table_name = \"tips_csv\"\n",
    "\n",
    "# df.createOrReplaceTempView(temp_table_name)"
   ]
  },
  {
   "cell_type": "code",
   "execution_count": 0,
   "metadata": {
    "application/vnd.databricks.v1+cell": {
     "cellMetadata": {},
     "inputWidgets": {},
     "nuid": "b5f66379-6f7f-42ec-8e82-d0e0926a1721",
     "showTitle": false,
     "title": ""
    }
   },
   "outputs": [
    {
     "output_type": "display_data",
     "data": {
      "text/html": [
       "<style scoped>\n",
       "  .ansiout {\n",
       "    display: block;\n",
       "    unicode-bidi: embed;\n",
       "    white-space: pre-wrap;\n",
       "    word-wrap: break-word;\n",
       "    word-break: break-all;\n",
       "    font-family: \"Menlo\", \"Monaco\", \"Consolas\", \"Ubuntu Mono\", \"Source Code Pro\", monospace;\n",
       "    font-size: 13px;\n",
       "    color: #555;\n",
       "    margin-left: 4px;\n",
       "    line-height: 19px;\n",
       "  }\n",
       "</style>"
      ]
     },
     "metadata": {
      "application/vnd.databricks.v1+output": {
       "arguments": {},
       "data": "",
       "errorSummary": "",
       "errorTraceType": null,
       "metadata": {},
       "type": "ipynbError"
      }
     },
     "output_type": "display_data"
    }
   ],
   "source": [
    "# %sql\n",
    "\n",
    "# /* Query the created temp table in a SQL cell */\n",
    "\n",
    "# select * from `tips_csv`"
   ]
  },
  {
   "cell_type": "code",
   "execution_count": 0,
   "metadata": {
    "application/vnd.databricks.v1+cell": {
     "cellMetadata": {},
     "inputWidgets": {},
     "nuid": "db9631f6-bb4a-42ca-8a3c-0d48af932331",
     "showTitle": false,
     "title": ""
    }
   },
   "outputs": [
    {
     "output_type": "display_data",
     "data": {
      "text/html": [
       "<style scoped>\n",
       "  .ansiout {\n",
       "    display: block;\n",
       "    unicode-bidi: embed;\n",
       "    white-space: pre-wrap;\n",
       "    word-wrap: break-word;\n",
       "    word-break: break-all;\n",
       "    font-family: \"Menlo\", \"Monaco\", \"Consolas\", \"Ubuntu Mono\", \"Source Code Pro\", monospace;\n",
       "    font-size: 13px;\n",
       "    color: #555;\n",
       "    margin-left: 4px;\n",
       "    line-height: 19px;\n",
       "  }\n",
       "</style>"
      ]
     },
     "metadata": {
      "application/vnd.databricks.v1+output": {
       "arguments": {},
       "data": "",
       "errorSummary": "",
       "errorTraceType": null,
       "metadata": {},
       "type": "ipynbError"
      }
     },
     "output_type": "display_data"
    }
   ],
   "source": [
    "# # With this registered as a temp view, it will only be available to this particular notebook. If you'd like other users to be able to query this table, you can also create a table from the DataFrame.\n",
    "# # Once saved, this table will persist across cluster restarts as well as allow various users across different notebooks to query this data.\n",
    "# # To do so, choose your table name and uncomment the bottom line.\n",
    "\n",
    "# permanent_table_name = \"tips_csv\"\n",
    "\n",
    "# # df.write.format(\"parquet\").saveAsTable(permanent_table_name)"
   ]
  }
 ],
 "metadata": {
  "application/vnd.databricks.v1+notebook": {
   "dashboards": [],
   "environmentMetadata": null,
   "language": "python",
   "notebookMetadata": {
    "pythonIndentUnit": 4
   },
   "notebookName": "MultiRegressionExample",
   "widgets": {}
  }
 },
 "nbformat": 4,
 "nbformat_minor": 0
}
